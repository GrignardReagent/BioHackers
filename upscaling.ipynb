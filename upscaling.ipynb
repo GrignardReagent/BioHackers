{
 "cells": [
  {
   "cell_type": "markdown",
   "metadata": {},
   "source": [
    "# Upscaling\n",
    "To achieve upscaling of the low-res image, we need to co-register the Sentinel data with LiDAR data"
   ]
  },
  {
   "cell_type": "code",
   "execution_count": 2,
   "metadata": {},
   "outputs": [],
   "source": [
    "import rasterio\n",
    "from rasterio.warp import calculate_default_transform, reproject, Resampling\n",
    "\n",
    "def coregister_sentinel_to_lidar(sentinel_path, lidar_path, output_path):\n",
    "    \"\"\"\n",
    "    Coregisters (aligns) Sentinel imagery to match the LiDAR raster's\n",
    "    resolution, extent, and coordinate system.\n",
    "    \n",
    "    Args:\n",
    "        sentinel_path (str): Path to the Sentinel raster (e.g., .tif).\n",
    "        lidar_path (str): Path to the LiDAR raster (e.g., .tif).\n",
    "        output_path (str): Output path for the coregistered Sentinel raster.\n",
    "    \"\"\"\n",
    "    # 1. Open LiDAR as the 'reference' dataset\n",
    "    with rasterio.open(lidar_path) as lidar_src:\n",
    "        # Read profile (metadata), will use this for alignment\n",
    "        lidar_profile = lidar_src.profile\n",
    "        lidar_crs = lidar_src.crs\n",
    "        lidar_transform = lidar_src.transform\n",
    "        lidar_bounds = lidar_src.bounds\n",
    "\n",
    "    # 2. Open Sentinel as the 'source' dataset\n",
    "    with rasterio.open(sentinel_path) as sentinel_src:\n",
    "        sentinel_profile = sentinel_src.profile\n",
    "        sentinel_crs = sentinel_src.crs\n",
    "        sentinel_transform = sentinel_src.transform\n",
    "        sentinel_bounds = sentinel_src.bounds\n",
    "\n",
    "        # 3. Compute the transform/shape needed to match LiDAR's resolution & CRS\n",
    "        #    By default, we can reproject Sentinel to exactly match LiDAR’s grid.\n",
    "        transform, width, height = calculate_default_transform(\n",
    "            src_crs=sentinel_crs,\n",
    "            dst_crs=lidar_crs,\n",
    "            width=sentinel_src.width,\n",
    "            height=sentinel_src.height,\n",
    "            left=sentinel_bounds.left,\n",
    "            bottom=sentinel_bounds.bottom,\n",
    "            right=sentinel_bounds.right,\n",
    "            top=sentinel_bounds.top,\n",
    "            # or you could use `*lidar_bounds` if you specifically want to \n",
    "            # match the LiDAR's bounding box. Depends on your region of interest.\n",
    "        )\n",
    "\n",
    "        # 4. Update the profile to match LiDAR's specs\n",
    "        #    (same CRS, resolution, transform, etc.)\n",
    "        aligned_profile = sentinel_profile.copy()\n",
    "        aligned_profile.update({\n",
    "            'crs': lidar_crs,\n",
    "            'transform': transform,\n",
    "            'width': width,\n",
    "            'height': height\n",
    "        })\n",
    "\n",
    "        # 5. Create the output dataset (coregistered Sentinel)\n",
    "        with rasterio.open(output_path, 'w', **aligned_profile) as dst:\n",
    "            # Reproject each band from Sentinel\n",
    "            for i in range(1, sentinel_profile['count'] + 1):\n",
    "                # Re-read each band from the original Sentinel file\n",
    "                sentinel_band = sentinel_src.read(i)\n",
    "\n",
    "                reproject(\n",
    "                    source=sentinel_band,\n",
    "                    destination=rasterio.band(dst, i),\n",
    "                    src_transform=sentinel_transform,\n",
    "                    src_crs=sentinel_crs,\n",
    "                    dst_transform=transform,\n",
    "                    dst_crs=lidar_crs,\n",
    "                    resampling=Resampling.bilinear\n",
    "                    # or nearest/cubic, depending on preference\n",
    "                )\n",
    "\n",
    "    print(f\"Coregistered Sentinel written to: {output_path}\")"
   ]
  },
  {
   "cell_type": "code",
   "execution_count": 4,
   "metadata": {},
   "outputs": [
    {
     "name": "stdout",
     "output_type": "stream",
     "text": [
      "Coregistered Sentinel written to: ./coregistered_data.tif\n"
     ]
    }
   ],
   "source": [
    "# ------------------- USAGE EXAMPLE -------------------\n",
    "if __name__ == \"__main__\":\n",
    "    # Replace with your actual file paths\n",
    "    sentinel_tif = \"./HackathonData/20230215_SE2B_CGG_GBR_MS4_L3_BGRN.tif\"\n",
    "    lidar_tif = \"./HackathonData/DSM_TQ0075_P_12757_20230109_20230315.tif\"\n",
    "    output_tif = \"./coregistered_data.tif\" # pwd\n",
    "    \n",
    "    coregister_sentinel_to_lidar(sentinel_tif, lidar_tif, output_tif)\n"
   ]
  },
  {
   "cell_type": "code",
   "execution_count": 4,
   "metadata": {},
   "outputs": [],
   "source": [
    "import os\n",
    "from osgeo import gdal\n",
    "\n",
    "def coregister_sentinel_to_lidar(\n",
    "    sentinel_path: str,\n",
    "    lidar_path: str,\n",
    "    output_path: str,\n",
    "    resampling_method: str = 'bilinear'\n",
    "):\n",
    "    \"\"\"\n",
    "    Reproject (warp) the Sentinel raster to match LiDAR's resolution, extent, and CRS.\n",
    "\n",
    "    :param sentinel_path: Path to the 3-band Sentinel file (e.g., .tif).\n",
    "    :param lidar_path: Path to the 1-band LiDAR file (e.g., .tif).\n",
    "    :param output_path: Output path for the resulting coregistered Sentinel file.\n",
    "    :param resampling_method: GDAL resampling method: e.g. 'near', 'bilinear', 'cubic', 'lanczos', etc.\n",
    "    \"\"\"\n",
    "\n",
    "    # 1. Open the LiDAR to read CRS, extent, and resolution\n",
    "    ds_lidar = gdal.Open(lidar_path, gdal.GA_ReadOnly)\n",
    "    if ds_lidar is None:\n",
    "        raise RuntimeError(f\"Could not open LiDAR file: {lidar_path}\")\n",
    "\n",
    "    lidar_proj = ds_lidar.GetProjection()      # CRS / projection\n",
    "    lidar_transform = ds_lidar.GetGeoTransform()  # (ulx, xres, xrot, uly, yrot, yres)\n",
    "    xsize = ds_lidar.RasterXSize\n",
    "    ysize = ds_lidar.RasterYSize\n",
    "\n",
    "    # Extract bounding coords\n",
    "    ulx = lidar_transform[0]\n",
    "    uly = lidar_transform[3]\n",
    "    xres = lidar_transform[1]      # pixel width\n",
    "    yres = lidar_transform[5]      # pixel height (likely negative)\n",
    "    lrx = ulx + xsize * xres\n",
    "    lry = uly + ysize * yres\n",
    "\n",
    "    ds_lidar = None  # close the dataset\n",
    "\n",
    "    # 2. Warp: direct style\n",
    "    #\n",
    "    # We pass sentinel_path as the second argument (the \"source\"), \n",
    "    # and specify all warp parameters (including projection, resolution, bounding box).\n",
    "    # This usage avoids the \"missing 1 required positional argument\" error in some GDAL versions.\n",
    "    #\n",
    "    # Note: For multi-band Sentinel, ensure the source file truly has 3 bands. Otherwise, \n",
    "    # the output will be single-band if the source is only single-band.\n",
    "    result = gdal.Warp(\n",
    "        destNameOrDestDS=output_path,\n",
    "        srcDSOrSrcDSTab=sentinel_path,  # Could also pass [sentinel_path] if your GDAL version requires a list\n",
    "        format='GTiff',\n",
    "        dstSRS=lidar_proj,                            # Match LiDAR's CRS\n",
    "        xRes=abs(xres),                               # 1-m resolution if xres=1.0 (and so on)\n",
    "        yRes=abs(yres),                               # The absolute value of yres\n",
    "        outputBounds=[ulx, lry, lrx, uly],            # Align bounding box with LiDAR\n",
    "        resampleAlg=resampling_method,                # bilinear, cubic, near, etc.\n",
    "        dstNodata=None\n",
    "    )\n",
    "\n",
    "    if not result:\n",
    "        raise RuntimeError(\"Warp failed or returned None. Check your GDAL installation and inputs.\")\n",
    "    \n",
    "    # Close to flush to disk\n",
    "    result = None\n",
    "    print(f\"Coregistered Sentinel saved to: {output_path}\")\n",
    "\n"
   ]
  },
  {
   "cell_type": "code",
   "execution_count": 13,
   "metadata": {},
   "outputs": [
    {
     "ename": "UnidentifiedImageError",
     "evalue": "cannot identify image file 'coregistered_data.tif'",
     "output_type": "error",
     "traceback": [
      "\u001b[0;31m---------------------------------------------------------------------------\u001b[0m",
      "\u001b[0;31mUnidentifiedImageError\u001b[0m                    Traceback (most recent call last)",
      "Cell \u001b[0;32mIn[13], line 4\u001b[0m\n\u001b[1;32m      1\u001b[0m \u001b[38;5;28;01mfrom\u001b[39;00m\u001b[38;5;250m \u001b[39m\u001b[38;5;21;01mPIL\u001b[39;00m\u001b[38;5;250m \u001b[39m\u001b[38;5;28;01mimport\u001b[39;00m Image\n\u001b[1;32m      3\u001b[0m \u001b[38;5;66;03m# Replace with your own file paths\u001b[39;00m\n\u001b[0;32m----> 4\u001b[0m \u001b[38;5;28;01mwith\u001b[39;00m \u001b[43mImage\u001b[49m\u001b[38;5;241;43m.\u001b[39;49m\u001b[43mopen\u001b[49m\u001b[43m(\u001b[49m\u001b[38;5;124;43m\"\u001b[39;49m\u001b[38;5;124;43mcoregistered_data.tif\u001b[39;49m\u001b[38;5;124;43m\"\u001b[39;49m\u001b[43m)\u001b[49m \u001b[38;5;28;01mas\u001b[39;00m img:\n\u001b[1;32m      5\u001b[0m     img\u001b[38;5;241m.\u001b[39msave(\u001b[38;5;124m\"\u001b[39m\u001b[38;5;124mcoregistered_data.png\u001b[39m\u001b[38;5;124m\"\u001b[39m)\n",
      "File \u001b[0;32m~/micromamba/envs/BioHackers/lib/python3.10/site-packages/PIL/Image.py:3532\u001b[0m, in \u001b[0;36mopen\u001b[0;34m(fp, mode, formats)\u001b[0m\n\u001b[1;32m   3530\u001b[0m     warnings\u001b[38;5;241m.\u001b[39mwarn(message)\n\u001b[1;32m   3531\u001b[0m msg \u001b[38;5;241m=\u001b[39m \u001b[38;5;124m\"\u001b[39m\u001b[38;5;124mcannot identify image file \u001b[39m\u001b[38;5;132;01m%r\u001b[39;00m\u001b[38;5;124m\"\u001b[39m \u001b[38;5;241m%\u001b[39m (filename \u001b[38;5;28;01mif\u001b[39;00m filename \u001b[38;5;28;01melse\u001b[39;00m fp)\n\u001b[0;32m-> 3532\u001b[0m \u001b[38;5;28;01mraise\u001b[39;00m UnidentifiedImageError(msg)\n",
      "\u001b[0;31mUnidentifiedImageError\u001b[0m: cannot identify image file 'coregistered_data.tif'"
     ]
    }
   ],
   "source": [
    "from PIL import Image\n",
    "\n",
    "# Replace with your own file paths\n",
    "with Image.open(\"coregistered_data.tif\") as img:\n",
    "    img.save(\"coregistered_data.png\")\n"
   ]
  },
  {
   "cell_type": "code",
   "execution_count": null,
   "metadata": {},
   "outputs": [],
   "source": [
    "os.system('python enhance.py --ori')"
   ]
  },
  {
   "cell_type": "code",
   "execution_count": null,
   "metadata": {},
   "outputs": [],
   "source": []
  }
 ],
 "metadata": {
  "kernelspec": {
   "display_name": "BioHackers",
   "language": "python",
   "name": "python3"
  },
  "language_info": {
   "codemirror_mode": {
    "name": "ipython",
    "version": 3
   },
   "file_extension": ".py",
   "mimetype": "text/x-python",
   "name": "python",
   "nbconvert_exporter": "python",
   "pygments_lexer": "ipython3",
   "version": "3.13.2"
  }
 },
 "nbformat": 4,
 "nbformat_minor": 2
}
